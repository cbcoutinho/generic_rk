{
 "cells": [
  {
   "cell_type": "code",
   "execution_count": 2,
   "metadata": {
    "collapsed": true
   },
   "outputs": [],
   "source": [
    "%matplotlib inline\n",
    "\n",
    "import numpy as np\n",
    "import pandas as pd\n",
    "import matplotlib.pyplot as plt"
   ]
  },
  {
   "cell_type": "code",
   "execution_count": 72,
   "metadata": {
    "collapsed": false
   },
   "outputs": [
    {
     "name": "stdout",
     "output_type": "stream",
     "text": [
      "[ 0.   0.5  0.5  1. ]\n",
      "[ 0.16666667  0.33333333  0.33333333  0.16666667]\n",
      "[[ 0.   0.   0.   0. ]\n",
      " [ 0.5  0.   0.   0. ]\n",
      " [ 0.   0.5  0.   0. ]\n",
      " [ 0.   0.   1.   0. ]]\n"
     ]
    }
   ],
   "source": [
    "N = 4\n",
    "c = np.array([0, 0.5, 0.5, 1])\n",
    "print(c)\n",
    "\n",
    "b = np.array([1/6, 1/3, 1/3, 1/6])\n",
    "print(b)\n",
    "\n",
    "a = np.zeros((N, N))\n",
    "a[0] = np.array([0, 0, 0, 0])\n",
    "a[1] = np.array([0.5, 0, 0, 0])\n",
    "a[2] = np.array([0, 0.5, 0, 0])\n",
    "a[3] = np.array([0, 0, 1, 0])\n",
    "print(a)"
   ]
  },
  {
   "cell_type": "code",
   "execution_count": 161,
   "metadata": {
    "collapsed": true
   },
   "outputs": [],
   "source": [
    "def myfun(t, y):\n",
    "    x = y[0]\n",
    "    v = y[1]\n",
    "    \n",
    "    x_prime = v\n",
    "    v_prime = -x\n",
    "    \n",
    "    return np.array([x_prime, v_prime])\n",
    "#    return np.cos(t)\n",
    "\n",
    "def rk_generic(N, c, b, a, h, t, y, fun):\n",
    "    k = np.zeros((N, len(y0)))\n",
    "    k[0] = fun(t, y)\n",
    "    k[1] = fun(t + h*c[1], y + h*a[1,0]*k[0])\n",
    "    k[2] = fun(t + h*c[2], y + h*a[2,1]*k[1])\n",
    "    k[3] = fun(t + h*c[3], y + h*a[3,2]*k[2])\n",
    "    \n",
    "    #print(k)\n",
    "    \n",
    "    return y + h*np.sum([b[ii]*k[ii] for ii in range(N)])\n",
    "#    for ii in range(N-1):\n",
    "#        k[ii+1] = fun(t + h*c[ii+1], y + h*np.sum([a[ii+1,jj] for jj in range(ii-1)]))\n",
    "#    return y + h*np.sum([b[ii]*k[ii] for ii in range(N)])"
   ]
  },
  {
   "cell_type": "code",
   "execution_count": 162,
   "metadata": {
    "collapsed": false
   },
   "outputs": [
    {
     "data": {
      "text/plain": [
       "array([ 0.00099498,  0.10099498])"
      ]
     },
     "execution_count": 162,
     "metadata": {},
     "output_type": "execute_result"
    }
   ],
   "source": [
    "y0 = np.array([0.0, 0.1])\n",
    "#y0 = np.array([0.0])\n",
    "\n",
    "t = 0\n",
    "h = 0.01\n",
    "rk_generic(N, c, b, a, h, t, y0, myfun)"
   ]
  },
  {
   "cell_type": "code",
   "execution_count": 163,
   "metadata": {
    "collapsed": false
   },
   "outputs": [
    {
     "data": {
      "text/plain": [
       "array([ 0.1, -0. ])"
      ]
     },
     "execution_count": 163,
     "metadata": {},
     "output_type": "execute_result"
    }
   ],
   "source": [
    "myfun(0, y0)"
   ]
  },
  {
   "cell_type": "code",
   "execution_count": 164,
   "metadata": {
    "collapsed": false
   },
   "outputs": [],
   "source": [
    "y = y0\n",
    "tspan = np.linspace(0, 2*np.pi, 100)\n",
    "dt = tspan[1]-tspan[0]\n",
    "\n",
    "yspan = np.array([y0])\n",
    "for ii in range(len(tspan)-1):\n",
    "    y = rk_generic(N, c, b, a, dt, tspan[ii], y, myfun)\n",
    "    yspan = np.append(yspan,[y], axis=0)\n",
    "    #print(t, y)"
   ]
  },
  {
   "cell_type": "code",
   "execution_count": null,
   "metadata": {
    "collapsed": false
   },
   "outputs": [],
   "source": []
  },
  {
   "cell_type": "code",
   "execution_count": 165,
   "metadata": {
    "collapsed": false
   },
   "outputs": [
    {
     "data": {
      "text/plain": [
       "[<matplotlib.lines.Line2D at 0x7fd7ca3a5c18>,\n",
       " <matplotlib.lines.Line2D at 0x7fd7ca3a5e80>]"
      ]
     },
     "execution_count": 165,
     "metadata": {},
     "output_type": "execute_result"
    },
    {
     "data": {
      "image/png": "[encoded data removed]",
      "text/plain": [
       "<matplotlib.figure.Figure at 0x7fd7ca3f1438>"
      ]
     },
     "metadata": {},
     "output_type": "display_data"
    }
   ],
   "source": [
    "plt.plot(tspan, yspan)"
   ]
  },
  {
   "cell_type": "code",
   "execution_count": null,
   "metadata": {
    "collapsed": true
   },
   "outputs": [],
   "source": []
  }
 ],
 "metadata": {
  "anaconda-cloud": {},
  "kernelspec": {
   "display_name": "Python [default]",
   "language": "python",
   "name": "python3"
  },
  "language_info": {
   "codemirror_mode": {
    "name": "ipython",
    "version": 3
   },
   "file_extension": ".py",
   "mimetype": "text/x-python",
   "name": "python",
   "nbconvert_exporter": "python",
   "pygments_lexer": "ipython3",
   "version": "3.5.2"
  }
 },
 "nbformat": 4,
 "nbformat_minor": 1
}
